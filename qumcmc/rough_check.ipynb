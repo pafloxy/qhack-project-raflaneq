{
 "cells": [
  {
   "cell_type": "code",
   "execution_count": 1,
   "metadata": {},
   "outputs": [],
   "source": [
    "from quantum_mcmc_routines import *"
   ]
  },
  {
   "cell_type": "code",
   "execution_count": 2,
   "metadata": {},
   "outputs": [
    {
     "name": "stdout",
     "output_type": "stream",
     "text": [
      "J after: [[ 0.    -0.88   0.93  -0.62 ]\n",
      " [-0.88   0.     0.35  -0.135]\n",
      " [ 0.93   0.35   0.     0.355]\n",
      " [-0.62  -0.135  0.355  0.   ]]\n",
      "h is: [ 0.08 -0.16  0.63  0.81]\n",
      "alpha:  1.0885895376867156\n"
     ]
    }
   ],
   "source": [
    "# define the model\n",
    "np.random.seed(6)# should always be in the same cell!  \n",
    "n_spins = 4\n",
    "\n",
    "## construct problem Hamiltonian ##\n",
    "shape_of_J=(n_spins,n_spins)\n",
    "\n",
    "# defining J matrix (mutual 1-1 interaction)\n",
    "J =  np.round(np.random.randn(n_spins,n_spins), decimals=2)#np.random.uniform(low= -1, high= 1, size= (n_spins, n_spins) )\n",
    "J = 0.5 * (J + J.transpose() )\n",
    "# print(\"J before:\"); print(J)\n",
    "J= J - np.diag(np.diag(J))\n",
    "\n",
    "# J=np.array([[0,1,0.5,-1],[1,0,0.3,0.5],[0.5,0.3,0,1],[-1,0.5,1,0]])\n",
    "print(\"J after:\", J)\n",
    "\n",
    "# defining h\n",
    "h = np.round(np.random.randn(n_spins), decimals=2)#np.random.uniform(low= -1, high = 1, size= (n_spins))\n",
    "# h=np.array([0.5]*n_spins)\n",
    "print(\"h is:\", h)\n",
    "\n",
    "# instantiate the model\n",
    "model = IsingEnergyFunction(J, h)\n",
    "# print(model.get_energy('0100'))\n",
    "alpha = np.sqrt(n_spins) / np.sqrt( sum([J[i][j]**2 for i in range(n_spins) for j in range(i)]) + sum([h[j]**2 for j in range(n_spins)])  )\n",
    "print(\"alpha: \", alpha)"
   ]
  },
  {
   "cell_type": "code",
   "execution_count": 3,
   "metadata": {},
   "outputs": [],
   "source": [
    "import time"
   ]
  },
  {
   "cell_type": "code",
   "execution_count": 4,
   "metadata": {},
   "outputs": [
    {
     "name": "stdout",
     "output_type": "stream",
     "text": [
      "starting with:  1011\n"
     ]
    },
    {
     "name": "stderr",
     "output_type": "stream",
     "text": [
      "running MCMC steps ...: 100%|██████████| 10/10 [00:00<00:00, 21.72it/s]"
     ]
    },
    {
     "name": "stdout",
     "output_type": "stream",
     "text": [
      "titme taken: 0.7295742034912109\n",
      "['0011', '1100', '0101', '1110', '0101', '1010', '0011', '0001', '0110', '1001']\n",
      "['0011', '1100', '1100', '1100', '1100', '1100', '1100', '1100', '1100', '1100']\n"
     ]
    },
    {
     "name": "stderr",
     "output_type": "stream",
     "text": [
      "\n"
     ]
    }
   ],
   "source": [
    "begin=time.time()\n",
    "N_hops=10\n",
    "aa,bb,cc=classical_mcmc(\n",
    "    N_hops=N_hops,\n",
    "    num_spins=n_spins,\n",
    "    initial_state='1011',\n",
    "    num_elems=16,\n",
    "    model=model,\n",
    "    return_last_n_states=10,\n",
    "    return_additional_lists=True,\n",
    "    temp=0.4,\n",
    ")\n",
    "end=time.time()\n",
    "print(\"titme taken:\",(end-begin))\n",
    "print(bb); print(cc)"
   ]
  },
  {
   "cell_type": "code",
   "execution_count": 5,
   "metadata": {},
   "outputs": [
    {
     "name": "stdout",
     "output_type": "stream",
     "text": [
      "starting with:  1011\n"
     ]
    },
    {
     "name": "stderr",
     "output_type": "stream",
     "text": [
      "runnning quantum MCMC steps . ..: 100%|██████████| 10/10 [00:07<00:00,  1.41it/s]"
     ]
    },
    {
     "name": "stdout",
     "output_type": "stream",
     "text": [
      "titme taken: 7.096993684768677\n"
     ]
    },
    {
     "name": "stderr",
     "output_type": "stream",
     "text": [
      "\n"
     ]
    }
   ],
   "source": [
    "begin=time.time()\n",
    "N_hops=10\n",
    "a,b,c=quantum_enhanced_mcmc(\n",
    "    N_hops=N_hops,\n",
    "    num_spins=n_spins,\n",
    "    initial_state='1011',\n",
    "    num_elems=16,\n",
    "    model=model,\n",
    "    alpha=alpha,\n",
    "    return_last_n_states=10,\n",
    "    return_additional_lists=True,\n",
    "    temp=0.4,\n",
    ")\n",
    "end=time.time()\n",
    "print(\"titme taken:\",(end-begin))"
   ]
  },
  {
   "cell_type": "code",
   "execution_count": 6,
   "metadata": {},
   "outputs": [
    {
     "name": "stdout",
     "output_type": "stream",
     "text": [
      "['1111', '1111', '0100', '1100', '1110', '1100', '0000', '0010', '1111', '0010']\n",
      "['1111', '1111', '0100', '1100', '1100', '1100', '1100', '0010', '0010', '0010']\n"
     ]
    }
   ],
   "source": [
    "print(b); print(c)"
   ]
  },
  {
   "cell_type": "code",
   "execution_count": 7,
   "metadata": {},
   "outputs": [],
   "source": [
    "def run_mcmc_different_chains(num_spins:int, \n",
    "N_hops:int,num_seperate_mcmc_chains:int ,model,temp:float, \n",
    "return_last_n_states:int, is_quantum_mcmc=False, alpha=None ):\n",
    "\n",
    "    num_elems=2**(num_spins)\n",
    "    dict_seperate_chains_states_distn_mcmc={}\n",
    "    dict_seperate_chains_sprime_mcmc={}\n",
    "    dict_seperate_chains_accepted_mcmc={}\n",
    "    poss_states=list(range(0,num_elems))\n",
    "    print(f\"Whether running quantum mcmc: {is_quantum_mcmc}\")\n",
    "    for chain_num in tqdm(range(0,num_seperate_mcmc_chains)):\n",
    "        init_state=np.random.choice(poss_states)\n",
    "        poss_states.remove(init_state)# to ensure that each mcmc chain starts with a different initial state\n",
    "        initial_state=f'{init_state:0{num_spins}b}'#f'{np.random.randint(0,num_elems):0{num_spins}b}'\n",
    "        if is_quantum_mcmc:\n",
    "            dict_states_mcmc, state_mcmc_after_trsn, state_mcmc_after_accept =quantum_enhanced_mcmc(N_hops, num_spins, \n",
    "                                                                                initial_state,\n",
    "                                                                                num_elems,model, \n",
    "                                                                                alpha,return_last_n_states=return_last_n_states,\n",
    "                                                                                return_additional_lists=True, \n",
    "                                                                                temp=temp)\n",
    "        else:\n",
    "            dict_states_mcmc, state_mcmc_after_trsn, state_mcmc_after_accept =classical_mcmc(N_hops, num_spins, \n",
    "                                                                                initial_state,\n",
    "                                                                                num_elems,model, \n",
    "                                                                                return_last_n_states=return_last_n_states,\n",
    "                                                                                return_additional_lists=True, \n",
    "                                                                                temp=temp)                                                                        \n",
    "        # sorting states in descending order of values(# occurences in mcmc chains)  for keys(states) \n",
    "        dict_states_mcmc_sorted_desc=value_sorted_dict(dict_states_mcmc, reverse=True)#dict_states_mcmc# this is where I might have to change things a little bit\n",
    "        #storing in a dict\n",
    "        dict_seperate_chains_states_distn_mcmc[chain_num]=dict_states_mcmc_sorted_desc\n",
    "        dict_seperate_chains_sprime_mcmc[chain_num]=state_mcmc_after_trsn\n",
    "        dict_seperate_chains_accepted_mcmc[chain_num]=state_mcmc_after_accept\n",
    "    return dict_seperate_chains_states_distn_mcmc, dict_seperate_chains_sprime_mcmc, dict_seperate_chains_accepted_mcmc\n"
   ]
  },
  {
   "cell_type": "code",
   "execution_count": 8,
   "metadata": {},
   "outputs": [],
   "source": [
    "from basic_utils import *\n",
    "\n",
    "class caln_from_samples:  ## Can you figure a better name ...like short yet intuitive ? xD\n",
    "    '''  \n",
    "    A class to use list_of_samples for different caln. \n",
    "    \n",
    "    Method given here (but not limited to) can\n",
    "    be come in handy for calculations of interest.\n",
    "    '''\n",
    "    def __init__(self, list_of_samples_sampled:list, num_mcmc_steps:dict):\n",
    "        self.list_samples=list_of_samples_sampled\n",
    "        self.num_mcmc_steps=num_mcmc_steps\n",
    "        self.num_spins=len(list_of_samples_sampled[0])\n",
    "        # import states function from basic utils.py\n",
    "        self.all_poss_samples=states(num_spins=len(list_of_samples_sampled[0]))\n",
    "        self.dict_count=self.count_states_occurence(list_samples=self.list_samples)\n",
    "        self.dict_distn=self.empirical_distn(list_samples=self.list_samples)\n",
    "\n",
    "    def count_states_occurence(self,list_samples)->dict:\n",
    "        ''' \n",
    "        Function to get dict of occurence count of sample\n",
    "        '''\n",
    "        dict_count=dict(zip(self.all_poss_samples,[0]*(len(self.all_poss_samples))))\n",
    "        dict_count.update(dict(Counter(list_samples)))\n",
    "        return dict_count               ## instead of returning a dictionary can we return the an instance of DiscreteProbabilityDistribution, this will let us use the class methods for averaging .. merging...updating  etc. \n",
    "    \n",
    "    def empirical_distn(self, list_samples)->dict:\n",
    "        ''' \n",
    "        Function to get dict of empirical distn from list of samples M.Chain was in.\n",
    "        '''\n",
    "        dict_distn=dict(zip(self.all_poss_samples,[0]*(len(self.all_poss_samples))))\n",
    "        list_occurence_count=list(dict(Counter(list_samples)).values())\n",
    "        normalised_values=list((1./(len(list_samples)))*np.array(list_occurence_count))\n",
    "        dict_distn.update(dict( zip(list(dict_distn.keys()), normalised_values )))\n",
    "        return dict_distn               ## instead of returning a dictionary can we return the an instance of DiscreteProbabilityDistribution, this will let us use the class methods for averaging .. merging...updating  etc. \n",
    "\n",
    "    def running_avg_magnetization_as_list(self)->np.array:\n",
    "        \"\"\"\n",
    "        Function to calculate the running average magnetization for the given mcmc trajectory as list\n",
    "        \n",
    "        Args:\n",
    "        list_states_mcmc= List of state markov chain is in after each MCMC step\n",
    "        \n",
    "        Returns: array of running value of magnetization\n",
    "\n",
    "        \"\"\"\n",
    "        list_of_strings = self.list_samples\n",
    "        list_of_lists = (\n",
    "            np.array([list(int(s) for s in bitstring) for bitstring in list_of_strings]) * 2\n",
    "            - 1\n",
    "        )\n",
    "        return np.array(\n",
    "            [\n",
    "                np.mean(np.sum(list_of_lists, axis=1)[:ii])\n",
    "                for ii in range(1, len(self.list_samples) + 1)\n",
    "            ]\n",
    "        )\n",
    "    \n",
    "    def average_of_some_observable(self,dict_observable_val_at_states: dict):\n",
    "        return avg(dict_probabilities=self.dict_distn, dict_observable_val_at_states=dict_observable_val_at_states)"
   ]
  },
  {
   "cell_type": "code",
   "execution_count": 9,
   "metadata": {},
   "outputs": [],
   "source": [
    "check=caln_from_samples(list_of_samples_sampled=c, num_mcmc_steps=N_hops)"
   ]
  },
  {
   "cell_type": "code",
   "execution_count": 10,
   "metadata": {},
   "outputs": [
    {
     "data": {
      "text/plain": [
       "<__main__.caln_from_samples at 0x7f9d9da17dc0>"
      ]
     },
     "execution_count": 10,
     "metadata": {},
     "output_type": "execute_result"
    }
   ],
   "source": [
    "check"
   ]
  },
  {
   "cell_type": "code",
   "execution_count": null,
   "metadata": {},
   "outputs": [],
   "source": []
  }
 ],
 "metadata": {
  "kernelspec": {
   "display_name": "Python 3.10.6 64-bit",
   "language": "python",
   "name": "python3"
  },
  "language_info": {
   "codemirror_mode": {
    "name": "ipython",
    "version": 3
   },
   "file_extension": ".py",
   "mimetype": "text/x-python",
   "name": "python",
   "nbconvert_exporter": "python",
   "pygments_lexer": "ipython3",
   "version": "3.10.6"
  },
  "orig_nbformat": 4,
  "vscode": {
   "interpreter": {
    "hash": "916dbcbb3f70747c44a77c7bcd40155683ae19c65e1c03b4aa3499c5328201f1"
   }
  }
 },
 "nbformat": 4,
 "nbformat_minor": 2
}
