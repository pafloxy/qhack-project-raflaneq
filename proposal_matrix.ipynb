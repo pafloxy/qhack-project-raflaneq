{
 "cells": [
  {
   "cell_type": "code",
   "execution_count": 5,
   "metadata": {},
   "outputs": [],
   "source": [
    "import numpy as np\n",
    "import pickle\n"
   ]
  },
  {
   "cell_type": "code",
   "execution_count": 50,
   "metadata": {},
   "outputs": [],
   "source": [
    "n_spins = 8\n",
    "num_circuits = 147  ## number of pickle files"
   ]
  },
  {
   "cell_type": "code",
   "execution_count": 79,
   "metadata": {},
   "outputs": [],
   "source": [
    "def new_proposal(counts: dict,twirl:int = 0,shots:int = 10**5):\n",
    "    matrix_update = np.zeros((2**n_spins,2**n_spins))\n",
    "    for state in counts:\n",
    "        input,output = state.split(\" \")\n",
    "        matrix_update[int(input,2)^twirl,int(output,2)^twirl] = (counts[state]/shots) * 2**n_spins\n",
    "    return matrix_update\n",
    "\n",
    "def update_proposal(proposal_matrix, counts: dict,twirl:int = 0,shots:int = 10**5):\n",
    "    new_matrix = new_proposal(counts,twirl,shots)\n",
    "    return proposal_matrix + new_matrix\n",
    "\n",
    "def normalize_proposal(proposal_matrix):\n",
    "    col_sums = proposal_matrix.sum(axis=0)\n",
    "    proposal_matrix_normed = proposal_matrix / col_sums[np.newaxis,:]\n",
    "    return proposal_matrix_normed"
   ]
  },
  {
   "cell_type": "code",
   "execution_count": 80,
   "metadata": {},
   "outputs": [],
   "source": [
    "from os import listdir\n",
    "proposal_matrix = np.zeros((2**n_spins,2**n_spins))\n",
    "\n",
    "for file in [path for path in listdir(\"DATA/raw-circuit-outputs/\") if path.endswith('pickle') and path.startswith(\"sm1id\") ]:\n",
    "    with open(\"DATA/raw-circuit-outputs/\"+file, \"rb\") as fp:\n",
    "        out = pickle.load(fp).get_counts()\n",
    "        proposal_matrix = update_proposal(proposal_matrix,out)\n",
    "        \n"
   ]
  },
  {
   "cell_type": "code",
   "execution_count": 87,
   "metadata": {},
   "outputs": [],
   "source": [
    "proposal_matrix = normalize_proposal(proposal_matrix)\n"
   ]
  },
  {
   "cell_type": "code",
   "execution_count": 86,
   "metadata": {},
   "outputs": [],
   "source": [
    "import time\n",
    "np.save('DATA/proposal_matrix/'+'proposal_matrix'+ str(int(time.time())), proposal_matrix)"
   ]
  }
 ],
 "metadata": {
  "kernelspec": {
   "display_name": "Python 3.9.2 ('qiskit-env')",
   "language": "python",
   "name": "python3"
  },
  "language_info": {
   "codemirror_mode": {
    "name": "ipython",
    "version": 3
   },
   "file_extension": ".py",
   "mimetype": "text/x-python",
   "name": "python",
   "nbconvert_exporter": "python",
   "pygments_lexer": "ipython3",
   "version": "3.9.2"
  },
  "orig_nbformat": 4,
  "vscode": {
   "interpreter": {
    "hash": "b179a9d67b0dbe1cda17951273063d141eee401b516356db5e42bd1d4541f6a6"
   }
  }
 },
 "nbformat": 4,
 "nbformat_minor": 2
}
