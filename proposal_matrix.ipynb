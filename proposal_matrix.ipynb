{
 "cells": [
  {
   "cell_type": "code",
   "execution_count": 1,
   "metadata": {},
   "outputs": [],
   "source": [
    "import numpy as np\n",
    "import pickle\n"
   ]
  },
  {
   "cell_type": "code",
   "execution_count": 2,
   "metadata": {},
   "outputs": [],
   "source": [
    "n_spins = 8\n",
    "num_circuits = 147  ## number of pickle files"
   ]
  },
  {
   "cell_type": "code",
   "execution_count": 3,
   "metadata": {},
   "outputs": [],
   "source": [
    "def new_proposal(counts: dict,twirl:int = 0,shots:int = 10**5):\n",
    "    matrix_update = np.zeros((2**n_spins,2**n_spins))\n",
    "    for state in counts:\n",
    "        input,output = state.split(\" \")\n",
    "        matrix_update[int(input,2)^twirl,int(output,2)^twirl] = (counts[state]/shots) * 2**n_spins\n",
    "    return matrix_update\n",
    "\n",
    "def update_proposal(proposal_matrix, counts: dict,twirl:int = 0,shots:int = 10**5):\n",
    "    new_matrix = new_proposal(counts,twirl,shots)\n",
    "    return proposal_matrix + new_matrix\n",
    "\n",
    "def normalize_proposal(proposal_matrix):\n",
    "    col_sums = proposal_matrix.sum(axis=0)\n",
    "    proposal_matrix_normed = proposal_matrix / col_sums[np.newaxis,:]\n",
    "    return proposal_matrix_normed"
   ]
  },
  {
   "cell_type": "code",
   "execution_count": 16,
   "metadata": {},
   "outputs": [],
   "source": [
    "from os import listdir\n",
    "proposal_matrix = np.zeros((2**n_spins,2**n_spins))\n",
    "\n",
    "for file in [path for path in listdir(\"DATA/raw-circuit-outputs/\") if path.endswith('pickle') and path.startswith(\"sm1id\") ]:\n",
    "    with open(\"DATA/raw-circuit-outputs/\"+file, \"rb\") as fp:\n",
    "        out = pickle.load(fp).get_counts()\n",
    "        proposal_matrix = update_proposal(proposal_matrix,out)\n",
    "        \n"
   ]
  },
  {
   "cell_type": "code",
   "execution_count": 17,
   "metadata": {},
   "outputs": [],
   "source": [
    "proposal_matrix = normalize_proposal(proposal_matrix)\n"
   ]
  },
  {
   "cell_type": "code",
   "execution_count": 18,
   "metadata": {},
   "outputs": [],
   "source": [
    "propsal_matrix = proposal_matrix.transpose()"
   ]
  },
  {
   "cell_type": "code",
   "execution_count": 19,
   "metadata": {},
   "outputs": [
    {
     "data": {
      "text/plain": [
       "(5.007515519177682, 2.6820553668402867)"
      ]
     },
     "execution_count": 19,
     "metadata": {},
     "output_type": "execute_result"
    }
   ],
   "source": [
    "sum(proposal_matrix[0]),sum(proposal_matrix[1])"
   ]
  },
  {
   "cell_type": "code",
   "execution_count": 86,
   "metadata": {},
   "outputs": [],
   "source": [
    "import time\n",
    "np.save('DATA/proposal_matrix/'+'proposal_matrix'+ str(int(time.time())), proposal_matrix)"
   ]
  }
 ],
 "metadata": {
  "kernelspec": {
   "display_name": "Python 3",
   "language": "python",
   "name": "python3"
  },
  "language_info": {
   "codemirror_mode": {
    "name": "ipython",
    "version": 3
   },
   "file_extension": ".py",
   "mimetype": "text/x-python",
   "name": "python",
   "nbconvert_exporter": "python",
   "pygments_lexer": "ipython3",
   "version": "3.10.6"
  },
  "orig_nbformat": 4,
  "vscode": {
   "interpreter": {
    "hash": "916dbcbb3f70747c44a77c7bcd40155683ae19c65e1c03b4aa3499c5328201f1"
   }
  }
 },
 "nbformat": 4,
 "nbformat_minor": 2
}
