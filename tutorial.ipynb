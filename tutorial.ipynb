{
 "cells": [
  {
   "cell_type": "markdown",
   "metadata": {},
   "source": [
    "#### **Imports**"
   ]
  },
  {
   "cell_type": "code",
   "execution_count": null,
   "metadata": {},
   "outputs": [],
   "source": [
    "## import essential modules \n",
    "import qumcmc \n",
    "from qumcmc.basic_utils import *\n",
    "from qumcmc.energy_models import IsingEnergyFunction\n",
    "\n",
    "from qumcmc.classical_mcmc_routines import classical_mcmc\n",
    "from qumcmc.quantum_mcmc_routines_qulacs import quantum_enhanced_mcmc     #for Qulacs Simulator backend\n",
    "# from qumcmc.quantum_mcmc_routines_qulacs import quantum_enhanced_mcmc   #for qiskit Aer's Simulator backend \n",
    "\n",
    "from qumcmc.trajectory_processing import calculate_running_js_divergence, calculate_running_kl_divergence, calculate_runnning_magnetisation, get_trajectory_statistics"
   ]
  },
  {
   "cell_type": "markdown",
   "metadata": {},
   "source": [
    "#### **Define the Energy Model**"
   ]
  },
  {
   "cell_type": "code",
   "execution_count": null,
   "metadata": {},
   "outputs": [],
   "source": [
    "# define the model\n",
    "np.random.seed(610358)# should always be in the same cell!  \n",
    "n_spins = 10\n",
    "\n",
    "## construct problem Hamiltonian ##\n",
    "shape_of_J=(n_spins,n_spins)\n",
    "\n",
    "## defining J matrix (mutual 1-1 interaction)\n",
    "# J =  np.round(np.random.choice([+1, 0, -1], size=(n_spins, n_spins)), decimals=2) \n",
    "J =  np.random.uniform(low= -2, high= 2, size= shape_of_J )\n",
    "\n",
    "J = 0.5 * (J + J.transpose() )\n",
    "J = np.round( J - np.diag(np.diag(J)) , decimals= 3)\n",
    "\n",
    "# defining h\n",
    "h = np.round(0.5 * np.random.randn(n_spins), decimals=2)\n",
    "#h = np.round(np.random.uniform(low= -1, high = 1, size= (n_spins)), decimals=2)\n",
    "\n",
    "# instantiate the model\n",
    "model = IsingEnergyFunction(J, h, name= 'my_model')\n"
   ]
  },
  {
   "cell_type": "code",
   "execution_count": null,
   "metadata": {},
   "outputs": [],
   "source": [
    "model.model_summary()"
   ]
  },
  {
   "cell_type": "markdown",
   "metadata": {},
   "source": [
    "#### **Exact Analysis**"
   ]
  },
  {
   "cell_type": "code",
   "execution_count": null,
   "metadata": {},
   "outputs": [],
   "source": [
    "## set current beta\n",
    "beta = 1.100209\n",
    "\n",
    "## run exact sampling over all possible configurations \n",
    "model.run_exact_sampling(beta)"
   ]
  },
  {
   "cell_type": "code",
   "execution_count": null,
   "metadata": {},
   "outputs": [],
   "source": [
    "model.exact_sampling_status"
   ]
  },
  {
   "cell_type": "code",
   "execution_count": null,
   "metadata": {},
   "outputs": [],
   "source": [
    "## get the distribution from model\n",
    "bpd = model.boltzmann_pd\n",
    "\n",
    "## plot the distribution\n",
    "plot_bargraph_desc_order(bpd, label= 'Boltzmann Dist.', plot_first_few= 15)"
   ]
  },
  {
   "cell_type": "markdown",
   "metadata": {},
   "source": [
    "#### **Run Classical MCMC**"
   ]
  },
  {
   "cell_type": "code",
   "execution_count": null,
   "metadata": {},
   "outputs": [],
   "source": [
    "steps = 10000\n",
    "cl_chain =classical_mcmc(\n",
    "    n_hops=steps,\n",
    "    model=model,\n",
    "    # return_last_n_states=10,\n",
    "    temperature=1/beta,\n",
    ")"
   ]
  },
  {
   "cell_type": "code",
   "execution_count": null,
   "metadata": {},
   "outputs": [],
   "source": [
    "cl_statistic = get_trajectory_statistics(cl_chain, model, verbose= True)"
   ]
  },
  {
   "cell_type": "markdown",
   "metadata": {},
   "source": [
    "#### **Run Quantum Enhaned MCMC**"
   ]
  },
  {
   "cell_type": "code",
   "execution_count": null,
   "metadata": {},
   "outputs": [],
   "source": [
    "steps = 10000\n",
    "qamcmc_chain =quantum_enhanced_mcmc(\n",
    "    n_hops=steps,\n",
    "    model=model,\n",
    "    temperature=1/beta,\n",
    ")"
   ]
  },
  {
   "cell_type": "code",
   "execution_count": null,
   "metadata": {},
   "outputs": [],
   "source": [
    "qumcm_statistic = get_trajectory_statistics(qamcmc_chain, model, verbose= True)"
   ]
  },
  {
   "cell_type": "markdown",
   "metadata": {},
   "source": [
    "#### **Proposition Strategy Analysis**"
   ]
  },
  {
   "cell_type": "code",
   "execution_count": null,
   "metadata": {},
   "outputs": [],
   "source": [
    "plt.figure(figsize=(10,10))\n",
    "\n",
    "plt.hist(np.log10(qumcm_statistic['acceptance']),label= 'quantum enhanced' , alpha= 0.8, bins= 20)\n",
    "plt.hist(np.log10(cl_statistic['acceptance']),label= 'classical uniform' ,alpha= 0.5, bins= 20)\n",
    "\n",
    "\n",
    "# plt.xscale(\"log\")\n",
    "\n",
    "plt.xlabel(\"Acceptance Probabilities | scale: log10\")\n",
    "# plt.ylabel(\"Hamming Distance\")\n",
    "plt.legend()\n",
    "plt.show()"
   ]
  },
  {
   "cell_type": "code",
   "execution_count": null,
   "metadata": {},
   "outputs": [],
   "source": [
    "plt.figure(figsize=(10,10))\n",
    "\n",
    "plt.hist(qumcm_statistic['energy'],label= 'quantum enhanced' , alpha= 0.8, bins= 20)\n",
    "plt.hist(cl_statistic['energy'],label= 'classical uniform' ,alpha= 0.5, bins= 20)\n",
    "\n",
    "\n",
    "# plt.xscale(\"log\")\n",
    "\n",
    "plt.xlabel(\"Energy-Difference Statistics\")\n",
    "# plt.ylabel(\"Hamming Distance\")\n",
    "plt.legend()\n",
    "plt.show()"
   ]
  },
  {
   "cell_type": "code",
   "execution_count": null,
   "metadata": {},
   "outputs": [],
   "source": [
    "plt.figure(figsize=(10,10))\n",
    "\n",
    "plt.hist(qumcm_statistic['hamming'],label= 'quantum enhanced' , alpha= 0.8, bins= 20)\n",
    "plt.hist(cl_statistic['hamming'],label= 'classical uniform' ,alpha= 0.5, bins= 20)\n",
    "\n",
    "\n",
    "# plt.xscale(\"log\")\n",
    "\n",
    "plt.xlabel(\"Hamming-Distance Statistics\")\n",
    "# plt.ylabel(\"Hamming Distance\")\n",
    "plt.legend()\n",
    "plt.show()"
   ]
  },
  {
   "cell_type": "markdown",
   "metadata": {},
   "source": [
    "#### **Convergence Analysis**"
   ]
  },
  {
   "cell_type": "markdown",
   "metadata": {},
   "source": [
    "##### Magnetisation"
   ]
  },
  {
   "cell_type": "code",
   "execution_count": null,
   "metadata": {},
   "outputs": [],
   "source": [
    "magnetization_model = model.get_observable_expectation(magnetization_of_state)\n",
    "magnetization_c = calculate_runnning_magnetisation(cl_chain)\n",
    "magnetization_q = calculate_runnning_magnetisation(qamcmc_chain)"
   ]
  },
  {
   "cell_type": "code",
   "execution_count": null,
   "metadata": {},
   "outputs": [],
   "source": [
    "plt.figure(figsize=(10,8))\n",
    "plt.plot(magnetization_c, label= 'classical')\n",
    "plt.plot(magnetization_q, label= 'quantum')\n",
    "plt.axhline(magnetization_model, label= 'original')\n",
    "plt.xlabel(\"iterations\")\n",
    "plt.ylabel(\"magnetisation\")\n",
    "plt.legend()\n",
    "plt.show()"
   ]
  },
  {
   "cell_type": "markdown",
   "metadata": {},
   "source": [
    "##### KL Divergence"
   ]
  },
  {
   "cell_type": "code",
   "execution_count": null,
   "metadata": {},
   "outputs": [],
   "source": [
    "jsdiv_c = calculate_running_kl_divergence(model.boltzmann_pd, cl_chain)\n",
    "jsdiv_q = calculate_running_kl_divergence(model.boltzmann_pd, qamcmc_chain)"
   ]
  },
  {
   "cell_type": "code",
   "execution_count": null,
   "metadata": {},
   "outputs": [],
   "source": [
    "plt.figure(figsize=(10,8))\n",
    "plt.plot(jsdiv_c, label= 'classical')\n",
    "plt.plot(jsdiv_q, label= 'quantum')\n",
    "plt.xlabel(\"iterations \")\n",
    "plt.ylabel(\"KL divergence\")\n",
    "plt.yscale('log')\n",
    "plt.legend()\n",
    "plt.show()\n"
   ]
  },
  {
   "cell_type": "code",
   "execution_count": null,
   "metadata": {},
   "outputs": [],
   "source": []
  }
 ],
 "metadata": {
  "kernelspec": {
   "display_name": "Python 3 [qumcmc]",
   "language": "python",
   "name": "python3_qumcmc_5d8mlf"
  },
  "language_info": {
   "codemirror_mode": {
    "name": "ipython",
    "version": 3
   },
   "file_extension": ".py",
   "mimetype": "text/x-python",
   "name": "python",
   "nbconvert_exporter": "python",
   "pygments_lexer": "ipython3",
   "version": "3.9.10"
  },
  "vscode": {
   "interpreter": {
    "hash": "916dbcbb3f70747c44a77c7bcd40155683ae19c65e1c03b4aa3499c5328201f1"
   }
  }
 },
 "nbformat": 4,
 "nbformat_minor": 4
}
