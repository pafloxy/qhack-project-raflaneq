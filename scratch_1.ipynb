{
 "cells": [
  {
   "cell_type": "code",
   "execution_count": 1,
   "metadata": {},
   "outputs": [],
   "source": [
    "## import essential modules \n",
    "import qumcmc \n",
    "from qumcmc.basic_utils import *\n",
    "from qumcmc.energy_models import IsingEnergyFunction, Exact_Sampling\n",
    "\n",
    "from qumcmc.classical_mcmc_routines import classical_mcmc\n",
    "# from qumcmc.quantum_mcmc_routines_qiskit import quantum_enhanced_mcmc   #for qiskit Aer's Simulator backend \n",
    "from qumcmc.quantum_mcmc_routines_qulacs import quantum_enhanced_mcmc   #for qulacs backend (**faster)\n",
    "\n",
    "from qumcmc.trajectory_processing import calculate_running_js_divergence, calculate_running_kl_divergence, calculate_runnning_magnetisation, get_trajectory_statistics\n",
    "\n",
    "from qiskit_ibm_provider import IBMProvider\n",
    "provider = IBMProvider()"
   ]
  },
  {
   "cell_type": "code",
   "execution_count": 2,
   "metadata": {},
   "outputs": [],
   "source": [
    "import pickle\n",
    "import seaborn as sns\n",
    "from matplotlib.colors import LogNorm, Normalize"
   ]
  },
  {
   "cell_type": "code",
   "execution_count": 72,
   "metadata": {},
   "outputs": [],
   "source": [
    "from qiskit_ibm_provider import IBMProvider\n",
    "from qiskit import QuantumCircuit, QuantumRegister, ClassicalRegister, transpile, transpiler, execute, Aer\n",
    "from qiskit.visualization import plot_circuit_layout, plot_coupling_map\n",
    "# provider = IBMProvider(token= '0c4a11984552ee16d40f9f7ad8848d8393c9010d55e924306fbc7486c2c55927173b79841d947e255fdbc927079265ed02aa66f10895a50367a0fd97bc6de628')\n"
   ]
  },
  {
   "cell_type": "code",
   "execution_count": 25,
   "metadata": {},
   "outputs": [],
   "source": [
    "lima = provider.get_backend('ibmq_lima'); guadalupe= provider.get_backend('ibmq_guadalupe')"
   ]
  },
  {
   "cell_type": "code",
   "execution_count": 77,
   "metadata": {},
   "outputs": [],
   "source": [
    "lima_cnfg = lima.configuration()"
   ]
  },
  {
   "cell_type": "code",
   "execution_count": 81,
   "metadata": {},
   "outputs": [
    {
     "ename": "TypeError",
     "evalue": "plot_coupling_map() missing 2 required positional arguments: 'qubit_coordinates' and 'coupling_map'",
     "output_type": "error",
     "traceback": [
      "\u001b[0;31m---------------------------------------------------------------------------\u001b[0m",
      "\u001b[0;31mTypeError\u001b[0m                                 Traceback (most recent call last)",
      "Cell \u001b[0;32mIn[81], line 1\u001b[0m\n\u001b[0;32m----> 1\u001b[0m plot_coupling_map(lima_cnfg)\n",
      "File \u001b[0;32m/usr/local/lib/python3.10/dist-packages/qiskit/utils/lazy_tester.py:165\u001b[0m, in \u001b[0;36mLazyDependencyManager.require_in_call.<locals>.out\u001b[0;34m(*args, **kwargs)\u001b[0m\n\u001b[1;32m    162\u001b[0m \u001b[39m@functools\u001b[39m\u001b[39m.\u001b[39mwraps(function)\n\u001b[1;32m    163\u001b[0m \u001b[39mdef\u001b[39;00m \u001b[39mout\u001b[39m(\u001b[39m*\u001b[39margs, \u001b[39m*\u001b[39m\u001b[39m*\u001b[39mkwargs):\n\u001b[1;32m    164\u001b[0m     \u001b[39mself\u001b[39m\u001b[39m.\u001b[39mrequire_now(feature)\n\u001b[0;32m--> 165\u001b[0m     \u001b[39mreturn\u001b[39;00m function(\u001b[39m*\u001b[39;49margs, \u001b[39m*\u001b[39;49m\u001b[39m*\u001b[39;49mkwargs)\n",
      "\u001b[0;31mTypeError\u001b[0m: plot_coupling_map() missing 2 required positional arguments: 'qubit_coordinates' and 'coupling_map'"
     ]
    }
   ],
   "source": [
    "plot_coupling_map(lima_cnfg)"
   ]
  },
  {
   "cell_type": "code",
   "execution_count": 75,
   "metadata": {},
   "outputs": [],
   "source": [
    "from qiskit.providers.models import backendconfiguration"
   ]
  },
  {
   "cell_type": "code",
   "execution_count": 87,
   "metadata": {},
   "outputs": [
    {
     "data": {
      "text/plain": [
       "[[0, 1], [1, 0], [1, 2], [1, 3], [2, 1], [3, 1], [3, 4], [4, 3]]"
      ]
     },
     "execution_count": 87,
     "metadata": {},
     "output_type": "execute_result"
    }
   ],
   "source": [
    "lima_cnfg.coupling_map"
   ]
  },
  {
   "cell_type": "code",
   "execution_count": 84,
   "metadata": {},
   "outputs": [],
   "source": [
    "cmp = transpiler.CouplingMap(lima_cnfg.coupling_map , 'tri')"
   ]
  },
  {
   "cell_type": "code",
   "execution_count": 95,
   "metadata": {},
   "outputs": [
    {
     "data": {
      "text/plain": [
       "[(0, 1), (1, 0), (1, 2), (1, 3), (2, 1), (3, 1), (3, 4), (4, 3)]"
      ]
     },
     "execution_count": 95,
     "metadata": {},
     "output_type": "execute_result"
    }
   ],
   "source": [
    "list(cmp.get_edges())"
   ]
  },
  {
   "cell_type": "code",
   "execution_count": 28,
   "metadata": {},
   "outputs": [],
   "source": [
    "theta= np.random.uniform(0, 2 * np.pi)"
   ]
  },
  {
   "cell_type": "code",
   "execution_count": 55,
   "metadata": {},
   "outputs": [
    {
     "data": {
      "text/plain": [
       "{'00': 989, '01': 915, '10': 1091, '11': 1005}"
      ]
     },
     "execution_count": 55,
     "metadata": {},
     "output_type": "execute_result"
    }
   ],
   "source": [
    "qc = QuantumCircuit(2)\n",
    "\n",
    "qc.h(0); qc.h(1)\n",
    "\n",
    "for _ in range(10):\n",
    "    qc.h(1)\n",
    "    qc.rzx(theta, 0, 1)\n",
    "    qc.h(1)\n",
    "\n",
    "qc.measure_all()\n",
    "\n",
    "tjb = transpile(qc, lima, initial_layout= [1,3])\n",
    "# plot_circuit_layout(tjb, lima)\n",
    "ec = execute(tjb, lima)\n",
    "ec.result().get_counts()"
   ]
  },
  {
   "cell_type": "code",
   "execution_count": 56,
   "metadata": {},
   "outputs": [
    {
     "data": {
      "text/plain": [
       "{'00': 1004, '01': 909, '10': 1138, '11': 949}"
      ]
     },
     "execution_count": 56,
     "metadata": {},
     "output_type": "execute_result"
    }
   ],
   "source": [
    "qc_ = QuantumCircuit(2)\n",
    "\n",
    "qc_.h(0); qc_.h(1)\n",
    "for _ in range(10):    \n",
    "    qc_.rzz(theta, 0, 1)\n",
    "\n",
    "qc_.measure_all()\n",
    "\n",
    "tjb = transpile(qc_, lima, initial_layout= [1,3])\n",
    "# plot_circuit_layout(tjb, lima)\n",
    "\n",
    "ec_ = execute(tjb, lima)\n",
    "ec_.result().get_counts()"
   ]
  },
  {
   "cell_type": "code",
   "execution_count": 65,
   "metadata": {},
   "outputs": [
    {
     "data": {
      "text/plain": [
       "{'11': 1003, '10': 1007, '00': 1022, '01': 968}"
      ]
     },
     "execution_count": 65,
     "metadata": {},
     "output_type": "execute_result"
    }
   ],
   "source": [
    "ecs = execute(qc_, Aer.get_backend('aer_simulator'), shots= 4000)\n",
    "ecs.result().get_counts()"
   ]
  },
  {
   "cell_type": "code",
   "execution_count": 66,
   "metadata": {},
   "outputs": [
    {
     "data": {
      "text/plain": [
       "(2.8768982887268066, 2.9189612865448, 0.002936124801635742)"
      ]
     },
     "execution_count": 66,
     "metadata": {},
     "output_type": "execute_result"
    }
   ],
   "source": [
    "ec_.result().time_taken, ec.result().time_taken, ecs.result().time_taken"
   ]
  },
  {
   "cell_type": "code",
   "execution_count": null,
   "metadata": {},
   "outputs": [],
   "source": []
  }
 ],
 "metadata": {
  "kernelspec": {
   "display_name": "Python 3",
   "language": "python",
   "name": "python3"
  },
  "language_info": {
   "codemirror_mode": {
    "name": "ipython",
    "version": 3
   },
   "file_extension": ".py",
   "mimetype": "text/x-python",
   "name": "python",
   "nbconvert_exporter": "python",
   "pygments_lexer": "ipython3",
   "version": "3.10.6"
  },
  "orig_nbformat": 4,
  "vscode": {
   "interpreter": {
    "hash": "916dbcbb3f70747c44a77c7bcd40155683ae19c65e1c03b4aa3499c5328201f1"
   }
  }
 },
 "nbformat": 4,
 "nbformat_minor": 2
}
