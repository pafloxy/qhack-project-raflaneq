{
 "cells": [
  {
   "cell_type": "code",
   "execution_count": 2,
   "metadata": {},
   "outputs": [],
   "source": [
    "## import essential modules \n",
    "import qumcmc \n",
    "from qumcmc.basic_utils import *\n",
    "from qumcmc.energy_models import *\n",
    "\n",
    "from qumcmc.classical_mcmc_routines import classical_mcmc\n",
    "# from qumcmc.quantum_mcmc_routines_qiskit import quantum_enhanced_mcmc   #for qiskit Aer's Simulator backend \n",
    "# from qumcmc.quantum_mcmc_routines_qulacs import quantum_enhanced_mcmc   #for qulacs backend (**faster)\n",
    "from QuantumSamplingRoutines import *\n",
    "from qumcmc.trajectory_processing import calculate_running_js_divergence, calculate_running_kl_divergence, calculate_runnning_magnetisation, get_trajectory_statistics\n",
    "\n",
    "import pickle, json \n",
    "import networkx as nx"
   ]
  },
  {
   "cell_type": "code",
   "execution_count": 3,
   "metadata": {},
   "outputs": [],
   "source": [
    "from qiskit import QuantumCircuit, QuantumRegister, ClassicalRegister, transpile, transpiler\n",
    "from qiskit.visualization import *"
   ]
  },
  {
   "cell_type": "code",
   "execution_count": 5,
   "metadata": {},
   "outputs": [],
   "source": [
    "from qiskit_ibm_provider import IBMProvider\n",
    "# # provider = IBMProvider(token= '0c4a11984552ee16d40f9f7ad8848d8393c9010d55e924306fbc7486c2c55927173b79841d947e255fdbc927079265ed02aa66f10895a50367a0fd97bc6de628')\n",
    "# # provider.save_account(token= '0c4a11984552ee16d40f9f7ad8848d8393c9010d55e924306fbc7486c2c55927173b79841d947e255fdbc927079265ed02aa66f10895a50367a0fd97bc6de628', overwrite= True)\n",
    "provider = IBMProvider()\n"
   ]
  },
  {
   "attachments": {},
   "cell_type": "markdown",
   "metadata": {},
   "source": [
    "#### **Testing Backend**"
   ]
  },
  {
   "cell_type": "code",
   "execution_count": 6,
   "metadata": {},
   "outputs": [],
   "source": [
    "ibmq_guadalupe = provider.get_backend('ibmq_guadalupe'); ibmq_lima = provider.get_backend('ibmq_lima')"
   ]
  },
  {
   "cell_type": "code",
   "execution_count": 46,
   "metadata": {},
   "outputs": [],
   "source": [
    "node_to_qubit_map = {0: 0, 1:1, 2:2, 3:3, 4:4, 5:6, 6:7, 7: 10}\n",
    "qubit_to_node_map = dict([(item[1], item[0]) for item in node_to_qubit_map.items()])\n",
    "\n",
    "map_node_to_qubit = lambda x: node_to_qubit_map[x]\n",
    "map_qubit_to_node = lambda x: qubit_to_node_map[x]"
   ]
  },
  {
   "cell_type": "code",
   "execution_count": 45,
   "metadata": {},
   "outputs": [
    {
     "data": {
      "text/plain": [
       "({0: 0, 1: 1, 2: 2, 3: 3, 4: 4, 5: 6, 6: 7, 7: 10},\n",
       " {0: 0, 1: 1, 2: 2, 3: 3, 4: 4, 6: 5, 7: 6, 10: 7})"
      ]
     },
     "execution_count": 45,
     "metadata": {},
     "output_type": "execute_result"
    }
   ],
   "source": [
    "node_to_qubit_map, qubit_to_node_map"
   ]
  },
  {
   "cell_type": "code",
   "execution_count": 82,
   "metadata": {},
   "outputs": [
    {
     "data": {
      "text/plain": [
       "[0, 1, 2, 3, 4, 6, 7, 10]"
      ]
     },
     "execution_count": 82,
     "metadata": {},
     "output_type": "execute_result"
    }
   ],
   "source": [
    "list(node_to_qubit_map.values())"
   ]
  },
  {
   "cell_type": "code",
   "execution_count": 50,
   "metadata": {},
   "outputs": [],
   "source": [
    "device_nodes = [0,1,2,3,4,6,7,10]\n",
    "device_edges = [(0,1),(1,4),(4,7),(7,10),(7,6),(1,2),(2,3)]\n",
    "\n",
    "graph_nodes = [0,1,2,3,4,5,6,7]\n",
    "\n",
    "graph_edges = []\n",
    "for edge in device_edges:\n",
    "    i = map_qubit_to_node(edge[0])\n",
    "    j = map_qubit_to_node(edge[1])\n",
    "    new_edge = (i,j)\n",
    "    graph_edges.append(new_edge)\n",
    "    "
   ]
  },
  {
   "cell_type": "code",
   "execution_count": 52,
   "metadata": {},
   "outputs": [
    {
     "data": {
      "text/plain": [
       "([0, 1, 2, 3, 4, 5, 6, 7],\n",
       " [(0, 1), (1, 4), (4, 6), (6, 7), (6, 5), (1, 2), (2, 3)])"
      ]
     },
     "execution_count": 52,
     "metadata": {},
     "output_type": "execute_result"
    }
   ],
   "source": [
    "graph_nodes, graph_edges"
   ]
  },
  {
   "cell_type": "code",
   "execution_count": 53,
   "metadata": {},
   "outputs": [],
   "source": [
    "trial_graph = nx.Graph(name= \"ising_1\")\n",
    "trial_graph.add_nodes_from(graph_nodes)\n",
    "trial_graph.add_edges_from(graph_edges)\n",
    "\n",
    "h = [0.1, 0.3, 0.4, 0.21, 0.38, 0.15, 0.25, 0.10]\n",
    "node_attr = {}\n",
    "for index, node in enumerate(trial_graph.nodes) :\n",
    "\n",
    "    node_attr[node] = {'h': np.round(h[index] * np.random.choice([1, -1]), 2)}\n",
    "\n",
    "nx.set_node_attributes(trial_graph, node_attr)\n",
    "edge_attr = {}\n",
    "for edge in trial_graph.edges :\n",
    "    edge_attr[edge] = {'J': np.round(np.random.uniform(-1,1),2)}\n",
    "\n",
    "nx.set_edge_attributes(trial_graph, edge_attr)"
   ]
  },
  {
   "cell_type": "code",
   "execution_count": 54,
   "metadata": {},
   "outputs": [
    {
     "data": {
      "image/png": "[encoded data removed]",
      "text/plain": [
       "<Figure size 640x480 with 1 Axes>"
      ]
     },
     "metadata": {},
     "output_type": "display_data"
    }
   ],
   "source": [
    "pos = nx.spring_layout(trial_graph)\n",
    "nx.draw(trial_graph, pos, with_labels= True,)\n",
    "nx.draw_networkx_edge_labels(trial_graph, pos, edge_labels= nx.get_edge_attributes(trial_graph, 'J'));\n",
    "# nx.draw_networkx_labels(trial_graph, pos, labels= nx.get_node_attributes(trial_graph, 'h'))\n"
   ]
  },
  {
   "cell_type": "code",
   "execution_count": 67,
   "metadata": {},
   "outputs": [
    {
     "data": {
      "text/plain": [
       "-0.54"
      ]
     },
     "execution_count": 67,
     "metadata": {},
     "output_type": "execute_result"
    }
   ],
   "source": [
    "nx.get_edge_attributes(trial_graph, 'J')[(0,1)]"
   ]
  },
  {
   "cell_type": "code",
   "execution_count": 71,
   "metadata": {},
   "outputs": [
    {
     "data": {
      "text/plain": [
       "[-0.1, -0.3, 0.4, -0.21, -0.38, -0.15, 0.25, -0.1]"
      ]
     },
     "execution_count": 71,
     "metadata": {},
     "output_type": "execute_result"
    }
   ],
   "source": [
    "list(nx.get_node_attributes(trial_graph, 'h').values())"
   ]
  },
  {
   "cell_type": "code",
   "execution_count": 76,
   "metadata": {},
   "outputs": [],
   "source": [
    "def build_energy_function_from_graph(graph: nx.Graph, name:str = 's'):\n",
    "    \n",
    "    nspins = graph.number_of_nodes()\n",
    "    j = nx.get_edge_attributes(graph, 'J')\n",
    "    J = np.zeros((nspins, nspins))\n",
    "\n",
    "    for edge in graph.edges():\n",
    "        J[edge[0], edge[1]] = j[edge]\n",
    "        J[edge[1], edge[0]] = j[edge]\n",
    "\n",
    "    H = list(nx.get_node_attributes(graph, 'h').values())    \n",
    "\n",
    "    return IsingEnergyFunction(J =J, h=H, name= 'sm1')"
   ]
  },
  {
   "cell_type": "code",
   "execution_count": 77,
   "metadata": {},
   "outputs": [],
   "source": [
    "model = build_energy_function_from_graph(trial_graph)"
   ]
  },
  {
   "cell_type": "code",
   "execution_count": 78,
   "metadata": {},
   "outputs": [
    {
     "name": "stdout",
     "output_type": "stream",
     "text": [
      "=============================================\n",
      "            MODEL : sm1\n",
      "=============================================\n",
      "Non-zero Interactions (J) : 7 / 28\n",
      "Non-zero Bias (h) : 8 / 8\n",
      "---------------------------------------------\n",
      "Average Interaction Strength <|J|> :  0.09812499999999999\n",
      "Average Bias Strength <|h|>:  0.23625000000000002\n",
      "alpha :  1.867976369687995\n",
      "---------------------------------------------\n"
     ]
    },
    {
     "data": {
      "image/png": "[encoded data removed]",
      "text/plain": [
       "<Figure size 1600x1000 with 2 Axes>"
      ]
     },
     "metadata": {},
     "output_type": "display_data"
    }
   ],
   "source": [
    "model.model_summary()"
   ]
  },
  {
   "attachments": {},
   "cell_type": "markdown",
   "metadata": {},
   "source": [
    "#### Final trial"
   ]
  },
  {
   "cell_type": "code",
   "execution_count": 79,
   "metadata": {},
   "outputs": [],
   "source": [
    "sampling_job = QuantumSamplingJob(model, ibmq_guadalupe)"
   ]
  },
  {
   "cell_type": "code",
   "execution_count": 83,
   "metadata": {},
   "outputs": [],
   "source": [
    "gamma= 0.4 ; time= 1.0 \n",
    "\n",
    "qcs = sampling_job.run_quantum_circuit(gamma, time, return_quantum_circuit= True)\n",
    "qcs = transpile(qcs, ibmq_guadalupe, optimization_level=3, initial_layout= list(node_to_qubit_map.values()) )"
   ]
  },
  {
   "cell_type": "code",
   "execution_count": 85,
   "metadata": {},
   "outputs": [
    {
     "data": {
      "image/png": "[encoded data removed]",
      "text/plain": [
       "<Figure size 500x500 with 1 Axes>"
      ]
     },
     "execution_count": 85,
     "metadata": {},
     "output_type": "execute_result"
    }
   ],
   "source": [
    "plot_circuit_layout(qcs, ibmq_guadalupe)"
   ]
  },
  {
   "attachments": {},
   "cell_type": "markdown",
   "metadata": {},
   "source": [
    "#### **Test Trial**"
   ]
  },
  {
   "cell_type": "code",
   "execution_count": 31,
   "metadata": {},
   "outputs": [
    {
     "name": "stdout",
     "output_type": "stream",
     "text": [
      "=============================================\n",
      "            MODEL : n2sd10923\n",
      "=============================================\n",
      "Non-zero Interactions (J) : 1 / 1\n",
      "Non-zero Bias (h) : 2 / 2\n",
      "---------------------------------------------\n",
      "Average Interaction Strength <|J|> :  0.3425\n",
      "Average Bias Strength <|h|>:  0.19\n",
      "alpha :  1.909313313651758\n",
      "---------------------------------------------\n"
     ]
    }
   ],
   "source": [
    "nspin = 2\n",
    "seed = 10923; name = 'n'+str(nspin)+'sd'+str(seed)\n",
    "model = random_ising_model(n_spins=nspin, seed= seed, print_model= False)\n",
    "model.name = name\n",
    "\n",
    "model.model_summary(plot = False)"
   ]
  },
  {
   "cell_type": "code",
   "execution_count": 32,
   "metadata": {},
   "outputs": [],
   "source": [
    "samplingjob = QuantumSamplingJob(model=model, backend= ibmq_guadalupe)"
   ]
  },
  {
   "cell_type": "code",
   "execution_count": 33,
   "metadata": {},
   "outputs": [],
   "source": [
    "gamma= 0.4 ; time= 1.0 \n",
    "\n",
    "qcs = samplingjob.run_quantum_circuit(gamma, time, return_quantum_circuit= True)"
   ]
  },
  {
   "cell_type": "code",
   "execution_count": 12,
   "metadata": {},
   "outputs": [
    {
     "data": {
      "text/html": [
       "<pre style=\"word-wrap: normal;white-space: pre;background: #fff0;line-height: 1.1;font-family: &quot;Courier New&quot;,Courier,monospace\">      ┌───┐┌─┐┌────────────────┐                   ░ ┌─┐   \n",
       "q1_0: ┤ H ├┤M├┤ exp(-ia1X+b1Z) ├───────────────────░─┤M├───\n",
       "      ├───┤└╥┘└──────┬─┬───────┘┌────────────────┐ ░ └╥┘┌─┐\n",
       "q1_1: ┤ H ├─╫────────┤M├────────┤ exp(-ia0X+b0Z) ├─░──╫─┤M├\n",
       "      └───┘ ║        └╥┘        └────────────────┘ ░  ║ └╥┘\n",
       "c2: 2/══════╩═════════╩═══════════════════════════════╬══╬═\n",
       "            0         1                               ║  ║ \n",
       "c3: 2/════════════════════════════════════════════════╩══╩═\n",
       "                                                      0  1 </pre>"
      ],
      "text/plain": [
       "      ┌───┐┌─┐┌────────────────┐                   ░ ┌─┐   \n",
       "q1_0: ┤ H ├┤M├┤ exp(-ia1X+b1Z) ├───────────────────░─┤M├───\n",
       "      ├───┤└╥┘└──────┬─┬───────┘┌────────────────┐ ░ └╥┘┌─┐\n",
       "q1_1: ┤ H ├─╫────────┤M├────────┤ exp(-ia0X+b0Z) ├─░──╫─┤M├\n",
       "      └───┘ ║        └╥┘        └────────────────┘ ░  ║ └╥┘\n",
       "c2: 2/══════╩═════════╩═══════════════════════════════╬══╬═\n",
       "            0         1                               ║  ║ \n",
       "c3: 2/════════════════════════════════════════════════╩══╩═\n",
       "                                                      0  1 "
      ]
     },
     "execution_count": 12,
     "metadata": {},
     "output_type": "execute_result"
    }
   ],
   "source": [
    "qcs.draw()"
   ]
  },
  {
   "cell_type": "code",
   "execution_count": 34,
   "metadata": {},
   "outputs": [],
   "source": [
    "qcs_tr = transpile(qcs, backend= ibmq_guadalupe, optimization_level= 3, initial_layout= [3,5])"
   ]
  },
  {
   "cell_type": "code",
   "execution_count": 37,
   "metadata": {},
   "outputs": [
    {
     "data": {
      "image/png": "[encoded data removed]",
      "text/plain": [
       "<Figure size 500x500 with 1 Axes>"
      ]
     },
     "execution_count": 37,
     "metadata": {},
     "output_type": "execute_result"
    }
   ],
   "source": [
    "plot_circuit_layout(qcs_tr, ibmq_guadalupe)"
   ]
  },
  {
   "cell_type": "code",
   "execution_count": 35,
   "metadata": {},
   "outputs": [
    {
     "data": {
      "text/html": [
       "<pre style=\"word-wrap: normal;white-space: pre;background: #fff0;line-height: 1.1;font-family: &quot;Courier New&quot;,Courier,monospace\">global phase: 3π/2\n",
       "                                                                            »\n",
       "  ancilla_0 -> 0 ───────────────────────────────────────────────────────────»\n",
       "                                                                            »\n",
       "  ancilla_1 -> 1 ───────────────────────────────────────────────────────────»\n",
       "                                                                            »\n",
       "  ancilla_2 -> 2 ───────────────────────────────────────────────────────────»\n",
       "                 ┌─────────┐┌────┐┌─────────┐┌─┐┌────────────┐    ┌────┐    »\n",
       "       q7_0 -> 3 ┤ Rz(π/2) ├┤ √X ├┤ Rz(π/2) ├┤M├┤ Rz(1.6942) ├────┤ √X ├────»\n",
       "                 └─────────┘└────┘└─────────┘└╥┘└────────────┘    └────┘    »\n",
       "  ancilla_3 -> 4 ─────────────────────────────╫─────────────────────────────»\n",
       "                 ┌─────────┐┌────┐┌─────────┐ ║      ┌─┐      ┌────────────┐»\n",
       "       q7_1 -> 5 ┤ Rz(π/2) ├┤ √X ├┤ Rz(π/2) ├─╫──────┤M├──────┤ Rz(1.3336) ├»\n",
       "                 └─────────┘└────┘└─────────┘ ║      └╥┘      └────────────┘»\n",
       "  ancilla_4 -> 6 ─────────────────────────────╫───────╫─────────────────────»\n",
       "                                              ║       ║                     »\n",
       "  ancilla_5 -> 7 ─────────────────────────────╫───────╫─────────────────────»\n",
       "                                              ║       ║                     »\n",
       "  ancilla_6 -> 8 ─────────────────────────────╫───────╫─────────────────────»\n",
       "                                              ║       ║                     »\n",
       "  ancilla_7 -> 9 ─────────────────────────────╫───────╫─────────────────────»\n",
       "                                              ║       ║                     »\n",
       " ancilla_8 -> 10 ─────────────────────────────╫───────╫─────────────────────»\n",
       "                                              ║       ║                     »\n",
       " ancilla_9 -> 11 ─────────────────────────────╫───────╫─────────────────────»\n",
       "                                              ║       ║                     »\n",
       "ancilla_10 -> 12 ─────────────────────────────╫───────╫─────────────────────»\n",
       "                                              ║       ║                     »\n",
       "ancilla_11 -> 13 ─────────────────────────────╫───────╫─────────────────────»\n",
       "                                              ║       ║                     »\n",
       "ancilla_12 -> 14 ─────────────────────────────╫───────╫─────────────────────»\n",
       "                                              ║       ║                     »\n",
       "ancilla_13 -> 15 ─────────────────────────────╫───────╫─────────────────────»\n",
       "                                              ║       ║                     »\n",
       "           c4: 2/═════════════════════════════╩═══════╩═════════════════════»\n",
       "                                              0       1                     »\n",
       "           c5: 2/═══════════════════════════════════════════════════════════»\n",
       "                                                                            »\n",
       "«                                                                              »\n",
       "«  ancilla_0 -> 0 ─────────────────────────────────────────────────────────────»\n",
       "«                                                                              »\n",
       "«  ancilla_1 -> 1 ─────────────────────────────────────────────────────────────»\n",
       "«                                                                              »\n",
       "«  ancilla_2 -> 2 ─────────────────────────────────────────────────────────────»\n",
       "«                 ┌─────────────┐     ┌────┐    ┌────────────┐               ░ »\n",
       "«       q7_0 -> 3 ┤ Rz(-2.5032) ├─────┤ √X ├────┤ Rz(1.6942) ├───────────────░─»\n",
       "«                 └─────────────┘     └────┘    └────────────┘               ░ »\n",
       "«  ancilla_3 -> 4 ─────────────────────────────────────────────────────────────»\n",
       "«                      ┌────┐    ┌─────────────┐    ┌────┐    ┌────────────┐ ░ »\n",
       "«       q7_1 -> 5 ─────┤ √X ├────┤ Rz(-2.5074) ├────┤ √X ├────┤ Rz(1.3336) ├─░─»\n",
       "«                      └────┘    └─────────────┘    └────┘    └────────────┘ ░ »\n",
       "«  ancilla_4 -> 6 ─────────────────────────────────────────────────────────────»\n",
       "«                                                                              »\n",
       "«  ancilla_5 -> 7 ─────────────────────────────────────────────────────────────»\n",
       "«                                                                              »\n",
       "«  ancilla_6 -> 8 ─────────────────────────────────────────────────────────────»\n",
       "«                                                                              »\n",
       "«  ancilla_7 -> 9 ─────────────────────────────────────────────────────────────»\n",
       "«                                                                              »\n",
       "« ancilla_8 -> 10 ─────────────────────────────────────────────────────────────»\n",
       "«                                                                              »\n",
       "« ancilla_9 -> 11 ─────────────────────────────────────────────────────────────»\n",
       "«                                                                              »\n",
       "«ancilla_10 -> 12 ─────────────────────────────────────────────────────────────»\n",
       "«                                                                              »\n",
       "«ancilla_11 -> 13 ─────────────────────────────────────────────────────────────»\n",
       "«                                                                              »\n",
       "«ancilla_12 -> 14 ─────────────────────────────────────────────────────────────»\n",
       "«                                                                              »\n",
       "«ancilla_13 -> 15 ─────────────────────────────────────────────────────────────»\n",
       "«                                                                              »\n",
       "«           c4: 2/═════════════════════════════════════════════════════════════»\n",
       "«                                                                              »\n",
       "«           c5: 2/═════════════════════════════════════════════════════════════»\n",
       "«                                                                              »\n",
       "«                       \n",
       "«  ancilla_0 -> 0 ──────\n",
       "«                       \n",
       "«  ancilla_1 -> 1 ──────\n",
       "«                       \n",
       "«  ancilla_2 -> 2 ──────\n",
       "«                 ┌─┐   \n",
       "«       q7_0 -> 3 ┤M├───\n",
       "«                 └╥┘   \n",
       "«  ancilla_3 -> 4 ─╫────\n",
       "«                  ║ ┌─┐\n",
       "«       q7_1 -> 5 ─╫─┤M├\n",
       "«                  ║ └╥┘\n",
       "«  ancilla_4 -> 6 ─╫──╫─\n",
       "«                  ║  ║ \n",
       "«  ancilla_5 -> 7 ─╫──╫─\n",
       "«                  ║  ║ \n",
       "«  ancilla_6 -> 8 ─╫──╫─\n",
       "«                  ║  ║ \n",
       "«  ancilla_7 -> 9 ─╫──╫─\n",
       "«                  ║  ║ \n",
       "« ancilla_8 -> 10 ─╫──╫─\n",
       "«                  ║  ║ \n",
       "« ancilla_9 -> 11 ─╫──╫─\n",
       "«                  ║  ║ \n",
       "«ancilla_10 -> 12 ─╫──╫─\n",
       "«                  ║  ║ \n",
       "«ancilla_11 -> 13 ─╫──╫─\n",
       "«                  ║  ║ \n",
       "«ancilla_12 -> 14 ─╫──╫─\n",
       "«                  ║  ║ \n",
       "«ancilla_13 -> 15 ─╫──╫─\n",
       "«                  ║  ║ \n",
       "«           c4: 2/═╬══╬═\n",
       "«                  ║  ║ \n",
       "«           c5: 2/═╩══╩═\n",
       "«                  0  1 </pre>"
      ],
      "text/plain": [
       "global phase: 3π/2\n",
       "                                                                            »\n",
       "  ancilla_0 -> 0 ───────────────────────────────────────────────────────────»\n",
       "                                                                            »\n",
       "  ancilla_1 -> 1 ───────────────────────────────────────────────────────────»\n",
       "                                                                            »\n",
       "  ancilla_2 -> 2 ───────────────────────────────────────────────────────────»\n",
       "                 ┌─────────┐┌────┐┌─────────┐┌─┐┌────────────┐    ┌────┐    »\n",
       "       q7_0 -> 3 ┤ Rz(π/2) ├┤ √X ├┤ Rz(π/2) ├┤M├┤ Rz(1.6942) ├────┤ √X ├────»\n",
       "                 └─────────┘└────┘└─────────┘└╥┘└────────────┘    └────┘    »\n",
       "  ancilla_3 -> 4 ─────────────────────────────╫─────────────────────────────»\n",
       "                 ┌─────────┐┌────┐┌─────────┐ ║      ┌─┐      ┌────────────┐»\n",
       "       q7_1 -> 5 ┤ Rz(π/2) ├┤ √X ├┤ Rz(π/2) ├─╫──────┤M├──────┤ Rz(1.3336) ├»\n",
       "                 └─────────┘└────┘└─────────┘ ║      └╥┘      └────────────┘»\n",
       "  ancilla_4 -> 6 ─────────────────────────────╫───────╫─────────────────────»\n",
       "                                              ║       ║                     »\n",
       "  ancilla_5 -> 7 ─────────────────────────────╫───────╫─────────────────────»\n",
       "                                              ║       ║                     »\n",
       "  ancilla_6 -> 8 ─────────────────────────────╫───────╫─────────────────────»\n",
       "                                              ║       ║                     »\n",
       "  ancilla_7 -> 9 ─────────────────────────────╫───────╫─────────────────────»\n",
       "                                              ║       ║                     »\n",
       " ancilla_8 -> 10 ─────────────────────────────╫───────╫─────────────────────»\n",
       "                                              ║       ║                     »\n",
       " ancilla_9 -> 11 ─────────────────────────────╫───────╫─────────────────────»\n",
       "                                              ║       ║                     »\n",
       "ancilla_10 -> 12 ─────────────────────────────╫───────╫─────────────────────»\n",
       "                                              ║       ║                     »\n",
       "ancilla_11 -> 13 ─────────────────────────────╫───────╫─────────────────────»\n",
       "                                              ║       ║                     »\n",
       "ancilla_12 -> 14 ─────────────────────────────╫───────╫─────────────────────»\n",
       "                                              ║       ║                     »\n",
       "ancilla_13 -> 15 ─────────────────────────────╫───────╫─────────────────────»\n",
       "                                              ║       ║                     »\n",
       "           c4: 2/═════════════════════════════╩═══════╩═════════════════════»\n",
       "                                              0       1                     »\n",
       "           c5: 2/═══════════════════════════════════════════════════════════»\n",
       "                                                                            »\n",
       "«                                                                              »\n",
       "«  ancilla_0 -> 0 ─────────────────────────────────────────────────────────────»\n",
       "«                                                                              »\n",
       "«  ancilla_1 -> 1 ─────────────────────────────────────────────────────────────»\n",
       "«                                                                              »\n",
       "«  ancilla_2 -> 2 ─────────────────────────────────────────────────────────────»\n",
       "«                 ┌─────────────┐     ┌────┐    ┌────────────┐               ░ »\n",
       "«       q7_0 -> 3 ┤ Rz(-2.5032) ├─────┤ √X ├────┤ Rz(1.6942) ├───────────────░─»\n",
       "«                 └─────────────┘     └────┘    └────────────┘               ░ »\n",
       "«  ancilla_3 -> 4 ─────────────────────────────────────────────────────────────»\n",
       "«                      ┌────┐    ┌─────────────┐    ┌────┐    ┌────────────┐ ░ »\n",
       "«       q7_1 -> 5 ─────┤ √X ├────┤ Rz(-2.5074) ├────┤ √X ├────┤ Rz(1.3336) ├─░─»\n",
       "«                      └────┘    └─────────────┘    └────┘    └────────────┘ ░ »\n",
       "«  ancilla_4 -> 6 ─────────────────────────────────────────────────────────────»\n",
       "«                                                                              »\n",
       "«  ancilla_5 -> 7 ─────────────────────────────────────────────────────────────»\n",
       "«                                                                              »\n",
       "«  ancilla_6 -> 8 ─────────────────────────────────────────────────────────────»\n",
       "«                                                                              »\n",
       "«  ancilla_7 -> 9 ─────────────────────────────────────────────────────────────»\n",
       "«                                                                              »\n",
       "« ancilla_8 -> 10 ─────────────────────────────────────────────────────────────»\n",
       "«                                                                              »\n",
       "« ancilla_9 -> 11 ─────────────────────────────────────────────────────────────»\n",
       "«                                                                              »\n",
       "«ancilla_10 -> 12 ─────────────────────────────────────────────────────────────»\n",
       "«                                                                              »\n",
       "«ancilla_11 -> 13 ─────────────────────────────────────────────────────────────»\n",
       "«                                                                              »\n",
       "«ancilla_12 -> 14 ─────────────────────────────────────────────────────────────»\n",
       "«                                                                              »\n",
       "«ancilla_13 -> 15 ─────────────────────────────────────────────────────────────»\n",
       "«                                                                              »\n",
       "«           c4: 2/═════════════════════════════════════════════════════════════»\n",
       "«                                                                              »\n",
       "«           c5: 2/═════════════════════════════════════════════════════════════»\n",
       "«                                                                              »\n",
       "«                       \n",
       "«  ancilla_0 -> 0 ──────\n",
       "«                       \n",
       "«  ancilla_1 -> 1 ──────\n",
       "«                       \n",
       "«  ancilla_2 -> 2 ──────\n",
       "«                 ┌─┐   \n",
       "«       q7_0 -> 3 ┤M├───\n",
       "«                 └╥┘   \n",
       "«  ancilla_3 -> 4 ─╫────\n",
       "«                  ║ ┌─┐\n",
       "«       q7_1 -> 5 ─╫─┤M├\n",
       "«                  ║ └╥┘\n",
       "«  ancilla_4 -> 6 ─╫──╫─\n",
       "«                  ║  ║ \n",
       "«  ancilla_5 -> 7 ─╫──╫─\n",
       "«                  ║  ║ \n",
       "«  ancilla_6 -> 8 ─╫──╫─\n",
       "«                  ║  ║ \n",
       "«  ancilla_7 -> 9 ─╫──╫─\n",
       "«                  ║  ║ \n",
       "« ancilla_8 -> 10 ─╫──╫─\n",
       "«                  ║  ║ \n",
       "« ancilla_9 -> 11 ─╫──╫─\n",
       "«                  ║  ║ \n",
       "«ancilla_10 -> 12 ─╫──╫─\n",
       "«                  ║  ║ \n",
       "«ancilla_11 -> 13 ─╫──╫─\n",
       "«                  ║  ║ \n",
       "«ancilla_12 -> 14 ─╫──╫─\n",
       "«                  ║  ║ \n",
       "«ancilla_13 -> 15 ─╫──╫─\n",
       "«                  ║  ║ \n",
       "«           c4: 2/═╬══╬═\n",
       "«                  ║  ║ \n",
       "«           c5: 2/═╩══╩═\n",
       "«                  0  1 "
      ]
     },
     "execution_count": 35,
     "metadata": {},
     "output_type": "execute_result"
    }
   ],
   "source": [
    "qcs_tr.draw()"
   ]
  },
  {
   "cell_type": "code",
   "execution_count": 12,
   "metadata": {},
   "outputs": [],
   "source": [
    "# with open('DATA/raw-circuit-outputs/mn2sd10923id1.pickle', 'rb') as hl:\n",
    "#     qc = pickle.load(hl)"
   ]
  },
  {
   "cell_type": "code",
   "execution_count": null,
   "metadata": {},
   "outputs": [],
   "source": []
  }
 ],
 "metadata": {
  "kernelspec": {
   "display_name": "Python 3",
   "language": "python",
   "name": "python3"
  },
  "language_info": {
   "codemirror_mode": {
    "name": "ipython",
    "version": 3
   },
   "file_extension": ".py",
   "mimetype": "text/x-python",
   "name": "python",
   "nbconvert_exporter": "python",
   "pygments_lexer": "ipython3",
   "version": "3.10.6"
  },
  "orig_nbformat": 4,
  "vscode": {
   "interpreter": {
    "hash": "916dbcbb3f70747c44a77c7bcd40155683ae19c65e1c03b4aa3499c5328201f1"
   }
  }
 },
 "nbformat": 4,
 "nbformat_minor": 2
}
