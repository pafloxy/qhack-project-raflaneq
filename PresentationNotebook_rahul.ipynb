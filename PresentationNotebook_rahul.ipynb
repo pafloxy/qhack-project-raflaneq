{
 "cells": [
  {
   "attachments": {},
   "cell_type": "markdown",
   "metadata": {},
   "source": [
    "## **A Quantum Enhanced Markov Chain Monte Carlo  Algorithm : Experiments & Simulation** "
   ]
  },
  {
   "attachments": {},
   "cell_type": "markdown",
   "metadata": {},
   "source": [
    "Our aim in this project is to explore the idea of an **Quantum Enhanced** MCMC algorithm, which was proposed initially by *David Layden et al* in the this [article](https://arxiv.org/abs/2203.12497). Markov Chain Monte-Carlo is one of the fundamental tools available for a sampling tasks that arises in wide variety of computational problems. One specific area of interest is sampling from thermal distribution of Spin-Glass type hamiltonians at low tempeatures, where the energy landscape turns into a space of sparse energy minimas separated by wide barren plateaus making it difficult for usual algorithms to sample effectively.\n",
    "\n",
    "$ \\mathbf{E}(s) = \\sum_{ij} s_i J_{ij} s_j + \\sum_{j} h_j s_j $"
   ]
  },
  {
   "attachments": {},
   "cell_type": "markdown",
   "metadata": {},
   "source": [
    "The usual approach to this task is through the **Metropolis Algorithm**, whihc essentially consisits of two steps :\n",
    "1. **Proposal Step :**  We propose a transition from the current state *s* to another state *s'*, with some probability $\\mathbf{Q}(s \\rightarrow s')$\n",
    "2. **Acceptance Step :** Based on the sampling inverse-temperature $\\beta$, we accept or reject the proposed transition with the probability $\\mathbf{T}(s \\rightarrow s') = min(1, e^{-\\beta (\\mathbf{E}(s') - \\mathbf{E}(s))})$"
   ]
  },
  {
   "attachments": {},
   "cell_type": "markdown",
   "metadata": {},
   "source": [
    "The expectation is that with sufficient iteration of the above algorithm i.e an MCMC chain of the accepted states ($ s_0 \\rightarrow s_1 \\rightarrow s_2 \\rightarrow s_3$ . .. ) we can closely approximate the desired probability distribution $\\mathbf{P}(s) = \\frac{e^{-\\beta \\mathbf{E}(s)}}{\\mathcal{Z}_{\\beta}}$. However one significant caveat in this approach is that under a general setting we lack a good *'proposal mechanism'* that can effciently propose transitions which would be accepted with high enough probability and this considerably slows down the convergence of the MCMC chain to the desired distribution. Basic classical approcahes like the *uniform-sampling* where we pick randomly pick a state at uniform or *local-sampling* where we propose local changes often fail to sample the space effectively because either the states proposed have high energy difference or are too localised to the intial state. \n",
    "\n",
    "The aim with the *Quantum Enhanced MCMC* is to somehow enhance the proposal step such that it provides us with transitions that are more likely to be accepted, i.e the energy differnece between the initial and the proposed state is minimal. In the figure below, the essential difference in the approach to the proposition step of this algorithm has been highlighted.                                      \n",
    "\n",
    "![proposition-strategy](DATA/figures/prop-strategy.jpeg)\n",
    "\n",
    "###### Figures taken from https://arxiv.org/abs/2203.12497\n",
    "\n",
    "\n",
    "Note how the proposed states are from is from a different energy minima and yet the energy difference between *s* and *s'* is low, compared to the *local* and *uniform* proposals it has both higher probability of being accepted and it enact sampling in a more global sense that is sees the entire energy landscape. Physically it could be thought analogous to *'quantum-mechanical-tunneliing'*, where particles can tunnel through narrow regions of high-energy barriers. In the next section we highlight the basic step of this enhanced proposition algorithm (refer as quMCMC)                                       \n",
    "\n",
    "\n",
    "However, there exists sophisticated algoriths for special cases of the ising models that would be sampled dependeing upon their properties like connectivity, for example see Cluster-flipping algorithm, Swesden-Wang algorithm etc. but we will be excluding them for your discussions\n"
   ]
  },
  {
   "attachments": {},
   "cell_type": "markdown",
   "metadata": {},
   "source": [
    "#### **quMCMC : Algorithm**"
   ]
  },
  {
   "attachments": {},
   "cell_type": "markdown",
   "metadata": {},
   "source": [
    "The approach to built a quantum algorithm that can help us with better propositions can be designed based on your intuition of the available QAOA type algorithms where we stack layers of alternating operators applying the *Phase* and the *Mixer* Unitaries. There the role of the phase unitaries $\\hat{U_p}$ is to apply phases corresponding the problem hamiltonian $\\hat{H_p}$ and mixer unitary $\\hat{U_m}$ acts to mix-up the phases of different basis states such as to allow transitions between them, the usual choice for being $ \\hat{H}_m = \\sum_i \\hat{X}_i$ since it easier to implemnt on device and also does not commute with the $\\hat{H}_p$. though for this algorithm we won't need to optimse the angles corresponding to this unitaries like the QAOA we use the same essential ingredeints.\n",
    "\n",
    "Based on this ideas we construct an evolution hamiltonian of the form \n",
    "$$                      \\hat{H}_{ev} = \\gamma \\hat{H}_p + (1- \\gamma) \\hat{H}_m\n",
    "$$\n",
    "\n",
    "Here $\\gamma$ intorduced a relative weight between the two hamiltonians. The basic idea to enhancing the proposal mechanism here is to, start with a random state *s* and evolve it under the $\\hat{U}_{ev} = e^{-i \\tau \\hat{H}_{ev}}$ for a short period of time and then measure it in a computational basis to get the proposed state *s'*, which is then processed into the *Acceptance step*.\n"
   ]
  },
  {
   "cell_type": "markdown",
   "metadata": {},
   "source": []
  },
  {
   "attachments": {},
   "cell_type": "markdown",
   "metadata": {},
   "source": [
    "#### Experiments on Statevector Simulators\n",
    "\n",
    "In this section we will present the resukts we obtained from our experiments on the implementation of the quMCMC algorithm on statevector simulators. The implementation was done in `qiskit` as well as in `qulacs` backends both of which provides efficient statevector simulators that could further enhanced from CUDA based GPU-Accelarators. However, for our purpose it seemed fit to use the `qulacs` backend as it provided a considerable speed-up for the particular range of qubits we experimented with. \n",
    "\n",
    "###### Refer to: [Qulacs-Doc](http://docs.qulacs.org/en/latest/intro/0_about.html), [Qiskit-Doc](https://qiskit.org/documentation/tutorials/simulators/1_aer_provider.html)"
   ]
  },
  {
   "attachments": {},
   "cell_type": "markdown",
   "metadata": {},
   "source": [
    "Our implementation follows the exact steps mentioned in the algorithm. Paramters like relative weigtht $\\gamma$, evolution time $\\tau$ and the level of trotterization are picked randomly on every single circuit executions, however there ranges  "
   ]
  },
  {
   "attachments": {},
   "cell_type": "markdown",
   "metadata": {},
   "source": [
    "#### Experiment on Real Quantum Hardware\n",
    "\n",
    "Next we illustrate the results we obtained from running our experiments on a Real Quantum Hardware. F\n",
    "As indicated above, the margin of quantum advantage becomes prominent only when we move to higher number of qubits. "
   ]
  },
  {
   "cell_type": "markdown",
   "metadata": {},
   "source": [
    "__ Picture of IBM_guadalupe"
   ]
  },
  {
   "cell_type": "markdown",
   "metadata": {},
   "source": [
    "We were given access to the device ibmq-guadalupe (14 qubits) with max. 300 circuits to run and 100000 shots per job. Although, we intended to explore a 2D-Ising model with large number of qubits, based on the given specifications we had to restrict our model accordingly. \n",
    "\n",
    "Based on the offline-online method used in https://arxiv.org/abs/2203.12497, we set up the proposal matrix first by running large number of circuits with various values of $\\gamma$,t ($\\gamma \\in (0.26,0.6), t \\in (1.6,9.6)$) and SPAM twirlings, and averaging over the whole data. Since we could only measure $10^5$ shots, number of spins had to be limited to 8 so that we could sample each transition atleast once (scales as $2^n \\times 2^n$). \n",
    "\n",
    "Next we choose a model that respects the device connectivity, so that we dont require SWAP gates. The qubits 0,1,2,3,4,6,7,10 were chosen based on their lower CNOT & measurement error rates. The qubit to device mapping is shown below"
   ]
  },
  {
   "cell_type": "markdown",
   "metadata": {},
   "source": [
    "__picture of chosen qubits"
   ]
  },
  {
   "cell_type": "markdown",
   "metadata": {},
   "source": [
    "The Ising model was chosen as follows(shown as a graph). The coupling and local magnetic fields were chosen randomly, while respecting connectivity."
   ]
  },
  {
   "cell_type": "markdown",
   "metadata": {},
   "source": [
    "![graph-ising](DATA/figures/Ising_graph.png)"
   ]
  },
  {
   "cell_type": "markdown",
   "metadata": {},
   "source": [
    "__model more info"
   ]
  },
  {
   "cell_type": "markdown",
   "metadata": {},
   "source": [
    "Using the device data we get the following proposal matrix (log scale). We attempted SPAM twirling as mentioned in  https://arxiv.org/abs/2203.12497, but were unable to execute the two-qubit twirling properly. This probably leads to the assymmetry in the proposal matrix that we see here."
   ]
  },
  {
   "cell_type": "markdown",
   "metadata": {},
   "source": [
    "__prposal matrix"
   ]
  },
  {
   "cell_type": "markdown",
   "metadata": {},
   "source": [
    "For a given matrix $M = \\{m_{jk}\\}$ to quantify the assymmetry we use the following measure,\n",
    "$$\n",
    "\\chi^2 = \\sum_{j<k} \\frac{(m_{jk} - m_{kj})^2}{m_{jk} + m_{kj}} = 7255.5\n",
    "$$\n"
   ]
  },
  {
   "cell_type": "markdown",
   "metadata": {},
   "source": [
    "Based on our proposal matrix we run the usual classical sampling using M-H algorithm, only using the quantum data for proposal probabilities. We can compare the quantum strategy with classical methods by looking at acceptance probabilities and KL convergence towards exact solution"
   ]
  },
  {
   "cell_type": "markdown",
   "metadata": {},
   "source": [
    "__Sampling probs"
   ]
  },
  {
   "cell_type": "markdown",
   "metadata": {},
   "source": [
    "__KL convergence data "
   ]
  },
  {
   "cell_type": "markdown",
   "metadata": {},
   "source": [
    "#### Measuring magnetization"
   ]
  },
  {
   "cell_type": "markdown",
   "metadata": {},
   "source": [
    "We can compare effectiveness of our method by looking at the magnetization values from classical and quantum methods wrt exact solution."
   ]
  },
  {
   "cell_type": "markdown",
   "metadata": {},
   "source": [
    "__magnetization at diff temps"
   ]
  }
 ],
 "metadata": {
  "kernelspec": {
   "display_name": "Python 3.8.10 64-bit",
   "language": "python",
   "name": "python3"
  },
  "language_info": {
   "codemirror_mode": {
    "name": "ipython",
    "version": 3
   },
   "file_extension": ".py",
   "mimetype": "text/x-python",
   "name": "python",
   "nbconvert_exporter": "python",
   "pygments_lexer": "ipython3",
   "version": "3.8.10"
  },
  "orig_nbformat": 4,
  "vscode": {
   "interpreter": {
    "hash": "31f2aee4e71d21fbe5cf8b01ff0e069b9275f58929596ceb00d14d90e3e16cd6"
   }
  }
 },
 "nbformat": 4,
 "nbformat_minor": 2
}
