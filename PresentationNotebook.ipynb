{
 "cells": [
  {
   "attachments": {},
   "cell_type": "markdown",
   "metadata": {},
   "source": [
    "## **A Quantum Enhanced Markov Chain Monte Carlo  Algorithm : Experiments & Simulation** "
   ]
  },
  {
   "attachments": {},
   "cell_type": "markdown",
   "metadata": {},
   "source": [
    "Our aim in this project is to explore the idea of an **Quantum Enhanced** MCMC algorithm, which was proposed initially by *David Layden et al* in the this [article](https://arxiv.org/abs/2203.12497). Markov Chain Monte-Carlo is one of the fundamental tools available for a sampling tasks that arises in wide variety of computational problems. One specific area of interest is sampling from thermal distribution of Spin-Glass type hamiltonians at low tempeatures, where the energy landscape turns into a space of sparse energy minimas separated by wide barren plateaus making it difficult for usual algorithms to sample effectively."
   ]
  },
  {
   "attachments": {},
   "cell_type": "markdown",
   "metadata": {},
   "source": [
    "The usual approach to this task is through the **Metropolis Algorithm**, whihc essentially consisits of two steps :\n",
    "1. **Proposal Step :**  We propose a transition from the current state *s* to another state *s'*, with some probability $\\mathbf{Q}(s \\rightarrow s')$\n",
    "2. **Acceptance Step :** Based on the sampling inverse-temperature $\\beta$, we accept or reject the proposed transition with the probability $\\mathbf{T}(s \\rightarrow s') = min(1, e^{-\\beta (\\mathbf{E}(s') - \\mathbf{E}(s))})$"
   ]
  },
  {
   "attachments": {},
   "cell_type": "markdown",
   "metadata": {},
   "source": [
    "The expectation is that with sufficient iteration of the above algorithm i.e an MCMC chain of the accepted states ($ s_0 \\rightarrow s_1 \\rightarrow s_2 \\rightarrow s_3$ . .. ) we can closely approximate the desired probability distribution $\\mathbf{P}(s) = \\frac{e^{-\\beta \\mathbf{E}(s)}}{\\mathcal{Z}_{\\beta}}$. However one significant caveat in this approach is that under a general setting we lack a good *'proposal mechanism'* that can effciently propose transitions which would be accepted with high enough probability and this considerably slows down the convergence of the MCMC chain to the desired distribution. Classically some \n",
    "\n",
    "###### There exists sophisticated algoriths for special cases of the ising models that would be sampled dependeing upon their properties like connectivity, for example see Cluster-flipping algorithm, Swesden-Wang algorithm etc. \n"
   ]
  },
  {
   "cell_type": "markdown",
   "metadata": {},
   "source": []
  },
  {
   "cell_type": "markdown",
   "metadata": {},
   "source": []
  },
  {
   "cell_type": "code",
   "execution_count": null,
   "metadata": {},
   "outputs": [],
   "source": []
  },
  {
   "cell_type": "markdown",
   "metadata": {},
   "source": []
  },
  {
   "cell_type": "code",
   "execution_count": null,
   "metadata": {},
   "outputs": [],
   "source": []
  }
 ],
 "metadata": {
  "kernelspec": {
   "display_name": "Python 3",
   "language": "python",
   "name": "python3"
  },
  "language_info": {
   "codemirror_mode": {
    "name": "ipython",
    "version": 3
   },
   "file_extension": ".py",
   "mimetype": "text/x-python",
   "name": "python",
   "nbconvert_exporter": "python",
   "pygments_lexer": "ipython3",
   "version": "3.10.6"
  },
  "orig_nbformat": 4,
  "vscode": {
   "interpreter": {
    "hash": "916dbcbb3f70747c44a77c7bcd40155683ae19c65e1c03b4aa3499c5328201f1"
   }
  }
 },
 "nbformat": 4,
 "nbformat_minor": 2
}
