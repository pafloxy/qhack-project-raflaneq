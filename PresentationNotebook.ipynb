{
 "cells": [
  {
   "attachments": {},
   "cell_type": "markdown",
   "metadata": {},
   "source": [
    "## **A Quantum Enhanced Markov Chain Monte Carlo  Algorithm : Experiments & Simulation** "
   ]
  },
  {
   "attachments": {},
   "cell_type": "markdown",
   "metadata": {},
   "source": [
    "Our aim in this project is to explore the idea of an **Quantum Enhanced** MCMC algorithm, which was proposed initially by *David Layden et al* in the this [article](https://arxiv.org/abs/2203.12497). Markov Chain Monte-Carlo is one of the fundamental tools available for a sampling tasks that arises in wide variety of computational problems. One specific area of interest is sampling from thermal distribution of Spin-Glass type hamiltonians at low tempeatures, where the energy landscape turns into a space of sparse energy minimas separated by wide barren plateaus making it difficult for usual algorithms to sample effectively.\n",
    "\n",
    "$ \\mathbf{E}(s) = \\sum_{ij} s_i J_{ij} s_j + \\sum_{j} h_j s_j $"
   ]
  },
  {
   "attachments": {},
   "cell_type": "markdown",
   "metadata": {},
   "source": [
    "The usual approach to this task is through the **Metropolis Algorithm**, whihc essentially consisits of two steps :\n",
    "1. **Proposal Step :**  We propose a transition from the current state *s* to another state *s'*, with some probability $\\mathbf{Q}(s \\rightarrow s')$\n",
    "2. **Acceptance Step :** Based on the sampling inverse-temperature $\\beta$, we accept or reject the proposed transition with the probability $\\mathbf{T}(s \\rightarrow s') = min(1, e^{-\\beta (\\mathbf{E}(s') - \\mathbf{E}(s))})$"
   ]
  },
  {
   "attachments": {},
   "cell_type": "markdown",
   "metadata": {},
   "source": [
    "The expectation is that with sufficient iteration of the above algorithm i.e an MCMC chain of the accepted states ($ s_0 \\rightarrow s_1 \\rightarrow s_2 \\rightarrow s_3$ . .. ) we can closely approximate the desired probability distribution $\\mathbf{P}(s) = \\frac{e^{-\\beta \\mathbf{E}(s)}}{\\mathcal{Z}_{\\beta}}$. However one significant caveat in this approach is that under a general setting we lack a good *'proposal mechanism'* that can effciently propose transitions which would be accepted with high enough probability and this considerably slows down the convergence of the MCMC chain to the desired distribution. Basic classical approcahes like the *uniform-sampling* where we pick randomly pick a state at uniform or *local-sampling* where we propose local changes often fail to sample the space effectively because either the states proposed have high energy difference or are too localised to the intial state. \n",
    "\n",
    "The aim with the *Quantum Enhanced MCMC* is to somehow enhance the proposal step such that it provides us with transitions that are more likely to be accepted, i.e the energy differnece between the initial and the proposed state is minimal. In the figure below, the essential difference in the approach to the proposition step of this algorithm has been highlighted.                                      \n",
    "\n",
    "![proposition-strategy](DATA/figures/prop-strategy.jpeg)\n",
    "\n",
    "###### Figures taken from https://arxiv.org/abs/2203.12497\n",
    "\n",
    "\n",
    "Note how the proposed states are from is from a different energy minima and yet the energy difference between *s* and *s'* is low, compared to the *local* and *uniform* proposals it has both higher probability of being accepted and it enact sampling in a more global sense that is sees the entire energy landscape. Physically it could be thought analogous to *'quantum-mechanical-tunneliing'*, where particles can tunnel through narrow regions of high-energy barriers. In the next section we highlight the basic step of this enhanced proposition algorithm (refer as quMCMC)                                       \n",
    "\n",
    "\n",
    "However, there exists sophisticated algoriths for special cases of the ising models that would be sampled dependeing upon their properties like connectivity, for example see Cluster-flipping algorithm, Swesden-Wang algorithm etc. but we will be excluding them for your discussions\n"
   ]
  },
  {
   "attachments": {},
   "cell_type": "markdown",
   "metadata": {},
   "source": [
    "#### **quMCMC : Algorithm**"
   ]
  },
  {
   "attachments": {},
   "cell_type": "markdown",
   "metadata": {},
   "source": [
    "The approach to built a quantum algorithm that can help us with better propositions can be designed based on your intuition of the available QAOA type algorithms where we stack layers of alternating operators applying the *Phase* and the *Mixer* Unitaries. There the role of the phase unitaries $\\hat{U_p}$ is to apply phases corresponding the problem hamiltonian $\\hat{H_p}$ and mixer unitary $\\hat{U_m}$ acts to mix-up the phases of different basis states such as to allow transitions between them, the usual choice for being $ \\hat{H}_m = \\sum_i \\hat{X}_i$ since it easier to implemnt on device and also does not commute with the $\\hat{H}_p$. though for this algorithm we won't need to optimse the angles corresponding to this unitaries like the QAOA we use the same essential ingredeints.\n",
    "\n",
    "Based on this ideas we construct an evolution hamiltonian of the form \n",
    "$$                      \\hat{H}_{ev} = \\alpha \\hat{H}_p + (1- \\alpha) \\hat{H}_m\n",
    "$$\n",
    "\n",
    "Here $\\alpha$ intorduced a relative weight between the two hamiltonians. The basic idea to enhancing the proposal mechanism here is to, start with a random state *s* and evolve it under the $\\hat{U}_{ev} = e^{-i \\tau \\hat{H}_{ev}}$ for a short period of time and then measure it in a computational basis to get the proposed state *s'*, which is then processed into the *Acceptance step*.\n"
   ]
  },
  {
   "cell_type": "code",
   "execution_count": null,
   "metadata": {},
   "outputs": [],
   "source": []
  },
  {
   "cell_type": "markdown",
   "metadata": {},
   "source": []
  },
  {
   "cell_type": "code",
   "execution_count": null,
   "metadata": {},
   "outputs": [],
   "source": []
  }
 ],
 "metadata": {
  "kernelspec": {
   "display_name": "Python 3",
   "language": "python",
   "name": "python3"
  },
  "language_info": {
   "codemirror_mode": {
    "name": "ipython",
    "version": 3
   },
   "file_extension": ".py",
   "mimetype": "text/x-python",
   "name": "python",
   "nbconvert_exporter": "python",
   "pygments_lexer": "ipython3",
   "version": "3.10.6"
  },
  "orig_nbformat": 4,
  "vscode": {
   "interpreter": {
    "hash": "916dbcbb3f70747c44a77c7bcd40155683ae19c65e1c03b4aa3499c5328201f1"
   }
  }
 },
 "nbformat": 4,
 "nbformat_minor": 2
}
